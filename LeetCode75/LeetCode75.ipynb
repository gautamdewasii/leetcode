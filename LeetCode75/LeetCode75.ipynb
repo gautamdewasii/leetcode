{
 "cells": [
  {
   "cell_type": "markdown",
   "id": "2bed65ec-2146-4224-bd17-6195369aac79",
   "metadata": {},
   "source": [
    "# <center><b>LeetCode 75<b></center>"
   ]
  },
  {
   "cell_type": "code",
   "execution_count": 1,
   "id": "a16a2512-edb2-4d01-8437-a70bdda5fd75",
   "metadata": {},
   "outputs": [],
   "source": [
    "# requirments :-"
   ]
  },
  {
   "cell_type": "code",
   "execution_count": 2,
   "id": "a230c7f6-9ea7-4b3a-ba8a-d3edab7ea286",
   "metadata": {},
   "outputs": [],
   "source": [
    "from typing import List"
   ]
  },
  {
   "cell_type": "markdown",
   "id": "3abe9eee-66ba-4b11-a123-4add91727914",
   "metadata": {},
   "source": [
    "### <center> <b> Array"
   ]
  },
  {
   "cell_type": "code",
   "execution_count": 3,
   "id": "595dc8f0-ec9a-461f-a295-9908fe1e69c1",
   "metadata": {},
   "outputs": [],
   "source": [
    "class Array:\n",
    "    \"\"\"1 TwoSum \"\"\"\n",
    "    # Brute force algo\n",
    "    # time complexity O(N^2)\n",
    "    def twoSum(nums: List[int], target: int) -> List[int]:\n",
    "        for i in range(len(nums)):\n",
    "            for j in range(i+1,len(nums)):\n",
    "                if nums[i]+nums[j]==target:\n",
    "                    return [i,j]\n",
    "\n",
    "    # Using HashMap (PreviewMap)\n",
    "    # time complexity O(N)\n",
    "    def twoSum2(nums: List[int], target: int) -> List[int]:\n",
    "        # it will store all visited values in it\n",
    "        preview_map={}\n",
    "\n",
    "        for index,value in enumerate(nums):\n",
    "            # for checking if diff exist in dict\n",
    "            diff=target-value\n",
    "            if diff in preview_map:\n",
    "                return [preview_map[diff],index]\n",
    "            preview_map[value]=index\n",
    "        return\n",
    "\n",
    "    \"\"\"121. Best Time to Buy and Sell Stock\"\"\"\n",
    "    # Using left-right pointers\n",
    "    # time - o(n) and space o(1)\n",
    "    def maxProfit(prices: List[int]) -> int:\n",
    "        left=0  #Buying index value\n",
    "        right=1  #Selling index value\n",
    "        max_profit=0\n",
    "        # until right didn't riches the end value index\n",
    "        while right<len(prices):\n",
    "            # if current stock price is less then next day,\n",
    "            # means if we buy today and sell next day, it will profitable\n",
    "            if prices[left]<prices[right]:\n",
    "                # that current profit \n",
    "                profit=prices[right]-prices[left]\n",
    "                # if current profit is greater then max_profit , then updating the max_profit\n",
    "                if max_profit<profit:\n",
    "                    max_profit=profit\n",
    "            # current stock price is higher then next day price,\n",
    "            # means we need to wait for next day to purchase,\n",
    "            # becuase if we purchase in less amount,\n",
    "            # then will get more profit\n",
    "            else:\n",
    "                # updating current stock value index with next day stock value index\n",
    "                left=right\n",
    "            # for each iteration, right is going to updated\n",
    "            right+=1\n",
    "        return max_profit\n"
   ]
  },
  {
   "cell_type": "code",
   "execution_count": 4,
   "id": "031d7cca-6598-4e23-8190-57ec42f24985",
   "metadata": {},
   "outputs": [
    {
     "name": "stdout",
     "output_type": "stream",
     "text": [
      "***   1.TwoSum   ***\n",
      "Using Brute Force time-o(n^2) , space-o(1)  :  [0, 1]\n",
      "Using HashMap time-o(n) ,space-o(n)  :  [0, 1]\n",
      "\n",
      "***   121.Best Time to Buy and Sell Stock   ***\n",
      "Using left right pointers time-o(n) , space-o(1)  :  5\n"
     ]
    }
   ],
   "source": [
    "obj=Array\n",
    "print(\"***   1.TwoSum   ***\")\n",
    "print(\"Using Brute Force time-o(n^2) , space-o(1)  : \",obj.twoSum([2,7,11,15],9))\n",
    "print(\"Using HashMap time-o(n) ,space-o(n)  : \",obj.twoSum2([2,7,11,15],9))\n",
    "print(\"\\n***   121.Best Time to Buy and Sell Stock   ***\")\n",
    "print(\"Using left right pointers time-o(n) , space-o(1)  : \",obj.maxProfit([7,1,5,3,6,4]))"
   ]
  },
  {
   "cell_type": "code",
   "execution_count": null,
   "id": "60655e9d-7368-4a55-bf27-086d3324101e",
   "metadata": {},
   "outputs": [],
   "source": []
  }
 ],
 "metadata": {
  "kernelspec": {
   "display_name": "Python 3 (ipykernel)",
   "language": "python",
   "name": "python3"
  },
  "language_info": {
   "codemirror_mode": {
    "name": "ipython",
    "version": 3
   },
   "file_extension": ".py",
   "mimetype": "text/x-python",
   "name": "python",
   "nbconvert_exporter": "python",
   "pygments_lexer": "ipython3",
   "version": "3.11.2"
  }
 },
 "nbformat": 4,
 "nbformat_minor": 5
}
