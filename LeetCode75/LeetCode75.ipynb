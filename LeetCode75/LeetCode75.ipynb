{
 "cells": [
  {
   "cell_type": "markdown",
   "id": "2bed65ec-2146-4224-bd17-6195369aac79",
   "metadata": {},
   "source": [
    "# <center><b>LeetCode 75<b></center>"
   ]
  },
  {
   "cell_type": "code",
   "execution_count": 1,
   "id": "a16a2512-edb2-4d01-8437-a70bdda5fd75",
   "metadata": {},
   "outputs": [],
   "source": [
    "# requirments :-"
   ]
  },
  {
   "cell_type": "code",
   "execution_count": 4,
   "id": "a230c7f6-9ea7-4b3a-ba8a-d3edab7ea286",
   "metadata": {},
   "outputs": [],
   "source": [
    "from typing import List"
   ]
  },
  {
   "cell_type": "markdown",
   "id": "3abe9eee-66ba-4b11-a123-4add91727914",
   "metadata": {},
   "source": [
    "### <center> <b> Array"
   ]
  },
  {
   "cell_type": "code",
   "execution_count": 6,
   "id": "595dc8f0-ec9a-461f-a295-9908fe1e69c1",
   "metadata": {},
   "outputs": [],
   "source": [
    "class Array:\n",
    "    \"\"\" TwoSum \"\"\"\n",
    "    # Brute force algo\n",
    "    # time complexity O(N^2)\n",
    "    def twoSum(nums: List[int], target: int) -> List[int]:\n",
    "        for i in range(len(nums)):\n",
    "            for j in range(i+1,len(nums)):\n",
    "                if nums[i]+nums[j]==target:\n",
    "                    return [i,j]\n",
    "\n",
    "    # Using HashMap (PreviewMap)\n",
    "    # time complexity O(N)\n",
    "    def twoSum2(nums: List[int], target: int) -> List[int]:\n",
    "        # it will store all visited values in it\n",
    "        preview_map={}\n",
    "\n",
    "        for index,value in enumerate(nums):\n",
    "            # for checking if diff exist in dict\n",
    "            diff=target-value\n",
    "            if diff in preview_map:\n",
    "                return [preview_map[diff],index]\n",
    "            preview_map[value]=index\n",
    "        return"
   ]
  },
  {
   "cell_type": "code",
   "execution_count": 8,
   "id": "031d7cca-6598-4e23-8190-57ec42f24985",
   "metadata": {},
   "outputs": [
    {
     "name": "stdout",
     "output_type": "stream",
     "text": [
      "Using Brute Force o(n^2)  :  [0, 1]\n",
      "Using HashMap 0\\o(n)  :  [0, 1]\n"
     ]
    }
   ],
   "source": [
    "obj=Array\n",
    "print(\"Using Brute Force o(n^2)  : \",obj.twoSum([2,7,11,15],9))\n",
    "print(\"Using HashMap 0\\o(n)  : \",obj.twoSum2([2,7,11,15],9))"
   ]
  },
  {
   "cell_type": "code",
   "execution_count": null,
   "id": "e2b51300-151d-4454-a50d-e20da5bd77ff",
   "metadata": {},
   "outputs": [],
   "source": []
  }
 ],
 "metadata": {
  "kernelspec": {
   "display_name": "Python 3 (ipykernel)",
   "language": "python",
   "name": "python3"
  },
  "language_info": {
   "codemirror_mode": {
    "name": "ipython",
    "version": 3
   },
   "file_extension": ".py",
   "mimetype": "text/x-python",
   "name": "python",
   "nbconvert_exporter": "python",
   "pygments_lexer": "ipython3",
   "version": "3.11.2"
  }
 },
 "nbformat": 4,
 "nbformat_minor": 5
}
